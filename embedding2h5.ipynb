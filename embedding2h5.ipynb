{
  "cells": [
    {
      "cell_type": "code",
      "metadata": {},
      "source": [
        "# encoding: utf-8\n",
        "import io\n",
        "import numpy as np\n",
        "import h5py\n",
        "\n",
        "\n",
        "def export_data_h5(vocabulary, embedding_matrix, output='embedding.h5'):\n",
        "    f = h5py.File(output, \"w\")\n",
        "    compress_option = dict(compression=\"gzip\", compression_opts=9, shuffle=True)\n",
        "    words_flatten = '\\n'.join(vocabulary)\n",
        "    f.attrs['vocab_len'] = len(vocabulary)\n",
        "    dt = h5py.special_dtype(vlen=str)\n",
        "    _dset_vocab = f.create_dataset('words_flatten', (1, ), dtype=dt, **compress_option)\n",
        "    _dset_vocab[...] = [words_flatten]\n",
        "    _dset = f.create_dataset('embedding', embedding_matrix.shape, dtype=embedding_matrix.dtype, **compress_option)\n",
        "    _dset[...] = embedding_matrix\n",
        "    f.flush()\n",
        "    f.close()\n",
        "\n",
        "\n",
        "def fasttext_export(embedding_file):\n",
        "    fin = io.open(embedding_file, 'r', encoding='utf-8', newline='\\n', errors='ignore')\n",
        "    vocabulary = []\n",
        "    embeddings = []\n",
        "    line_idx = 0\n",
        "    for line in fin:\n",
        "        if line_idx == 0:\n",
        "            line_idx += 1\n",
        "            continue\n",
        "        tokens = line.rstrip().split(' ')\n",
        "        vocabulary.append(tokens[0])\n",
        "        embeddings.append([float(item) for item in tokens[1:]])\n",
        "        line_idx += 1\n",
        "    export_data_h5(vocabulary, np.array(embeddings, dtype=np.float32), output=embedding_file + \".h5\")\n",
        "\n",
        "\n",
        "if __name__ == '__main__':\n",
        "    fasttext_export('crawl-300d-2M.vec')"
      ],
      "outputs": [],
      "execution_count": null
    }
  ],
  "metadata": {
    "anaconda-cloud": {},
    "kernelspec": {
      "display_name": "Python 3",
      "language": "python",
      "name": "python3"
    },
    "language_info": {
      "codemirror_mode": {
        "name": "ipython",
        "version": 3
      },
      "file_extension": ".py",
      "mimetype": "text/x-python",
      "name": "python",
      "nbconvert_exporter": "python",
      "pygments_lexer": "ipython3",
      "version": "3.6.1"
    }
  },
  "nbformat": 4,
  "nbformat_minor": 1
}